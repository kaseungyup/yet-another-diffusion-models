{
 "cells": [
  {
   "cell_type": "markdown",
   "id": "fc26d5c5",
   "metadata": {},
   "source": [
    "### U-net"
   ]
  },
  {
   "cell_type": "code",
   "execution_count": 1,
   "id": "26e1195b",
   "metadata": {},
   "outputs": [
    {
     "name": "stdout",
     "output_type": "stream",
     "text": [
      "Ready.\n"
     ]
    }
   ],
   "source": [
    "import numpy as np\n",
    "import torch\n",
    "from torch import nn\n",
    "import matplotlib.pyplot as plt\n",
    "np.set_printoptions(precision=2)\n",
    "%config InlineBackend.figure_format = 'retina'\n",
    "%matplotlib inline\n",
    "print (\"Ready.\")"
   ]
  },
  {
   "cell_type": "markdown",
   "id": "055ac644",
   "metadata": {},
   "source": [
    "### Util codes"
   ]
  },
  {
   "cell_type": "code",
   "execution_count": 2,
   "id": "a3df146e",
   "metadata": {},
   "outputs": [
    {
     "name": "stdout",
     "output_type": "stream",
     "text": [
      "Ready.\n"
     ]
    }
   ],
   "source": [
    "def np2torch(x_np,dtype=torch.float32,device='cpu'):\n",
    "    x_torch = torch.tensor(x_np,dtype=dtype,device=device)\n",
    "    return x_torch\n",
    "def torch2np(x_torch):\n",
    "    x_np = x_torch.detach().cpu().numpy()\n",
    "    return x_np\n",
    "class SinPositionEmbeddingsClass(nn.Module):\n",
    "    def __init__(self,dim=128,T=1000):\n",
    "        super().__init__()\n",
    "        self.dim = dim\n",
    "        self.T = T\n",
    "    @torch.no_grad()\n",
    "    def forward(self,steps=torch.arange(start=0,end=1000,step=1)):\n",
    "        device = steps.device\n",
    "        half_dim = self.dim // 2\n",
    "        embeddings = math.log(self.T) / (half_dim - 1)\n",
    "        embeddings = torch.exp(torch.arange(half_dim, device=device) * -embeddings)\n",
    "        embeddings = steps[:, None] * embeddings[None, :]\n",
    "        embeddings = torch.cat((embeddings.sin(), embeddings.cos()), dim=-1)\n",
    "        return embeddings\n",
    "print (\"Ready.\")"
   ]
  },
  {
   "cell_type": "code",
   "execution_count": 3,
   "id": "f2d6273f",
   "metadata": {
    "scrolled": true
   },
   "outputs": [
    {
     "name": "stdout",
     "output_type": "stream",
     "text": [
      "x:torch.Size([128, 100]),t:torch.Size([128, 64]) to out:torch.Size([128, 20])\n"
     ]
    }
   ],
   "source": [
    "class DenseBlockClass(nn.Module):\n",
    "    def __init__(self,in_dim=10,out_dim=5,pos_emb_dim=10):\n",
    "        \"\"\"\n",
    "            Initialize\n",
    "        \"\"\"\n",
    "        super(DenseBlockClass,self).__init__()\n",
    "        self.in_dim = in_dim\n",
    "        self.out_dim = out_dim\n",
    "        self.pos_emb_dim = pos_emb_dim\n",
    "        \n",
    "        self.dense1 = nn.Linear(self.in_dim,self.out_dim)\n",
    "        self.bnorm1 = nn.BatchNorm1d(self.out_dim)\n",
    "        self.dense2 = nn.Linear(self.out_dim,self.out_dim)\n",
    "        self.bnorm2 = nn.BatchNorm1d(self.out_dim)\n",
    "        self.actv   = nn.ReLU()\n",
    "        self.pos_emb_mlp = nn.Linear(self.pos_emb_dim,self.out_dim)\n",
    "        \n",
    "    def forward(self,x,t):\n",
    "        \"\"\"\n",
    "            Forward\n",
    "        \"\"\"\n",
    "        h = self.bnorm1(self.actv(self.dense1(x))) # dense -> actv -> bnrom1 [B x out_dim]\n",
    "        h = h + self.pos_emb_mlp(t) # [B x out_dim]\n",
    "        h = self.bnorm2(self.actv(self.dense2(h))) # [B x out_dim]\n",
    "        return h\n",
    "        \n",
    "DenseBlock = DenseBlockClass(in_dim=100,out_dim=20,pos_emb_dim=64)\n",
    "x = torch.randn(128,100)\n",
    "t = torch.randn(128,64)\n",
    "out = DenseBlock(x=x,t=t) # forward Block\n",
    "\n",
    "print (\"x:%s,t:%s to out:%s\"%(x.shape,t.shape,out.shape))"
   ]
  },
  {
   "cell_type": "markdown",
   "id": "7c77b4bf",
   "metadata": {},
   "source": [
    "### Dense U-Net \n",
    "<img src=\"../img/DenseUNet.jpeg\" width=\"500\" />\n",
    "<img src=\"../img/Block.jpeg\" width=\"500\" />"
   ]
  },
  {
   "cell_type": "code",
   "execution_count": 4,
   "id": "b5c8753a",
   "metadata": {},
   "outputs": [
    {
     "name": "stdout",
     "output_type": "stream",
     "text": [
      "Ready.\n"
     ]
    }
   ],
   "source": [
    "class DenseUNetClass(nn.Module):\n",
    "    def __init__(self,name='dense_unet',\n",
    "                 x_dim=300,pos_emb_dim=128,h_dims=[128,64],z_dim=32):\n",
    "        \"\"\"\n",
    "            Initialize\n",
    "        \"\"\"\n",
    "        super(DenseUNetClass,self).__init__()\n",
    "        self.name        = name\n",
    "        self.x_dim       = x_dim\n",
    "        self.pos_emb_dim = pos_emb_dim\n",
    "        self.h_dims      = h_dims\n",
    "        self.z_dim       = z_dim\n",
    "        # Initialize layers\n",
    "        self.init_layers()\n",
    "        \n",
    "    def init_layers(self):\n",
    "        \"\"\"\n",
    "            Initialize layers\n",
    "        \"\"\"\n",
    "        self.layers = {}\n",
    "        # Encoder\n",
    "        h_prev = self.x_dim\n",
    "        for h_idx,h_dim in enumerate(self.h_dims):\n",
    "            self.layers['Enc_%02d'%(h_idx)] = DenseBlockClass(\n",
    "                in_dim=h_prev,out_dim=h_dim,pos_emb_dim=self.pos_emb_dim)\n",
    "            h_prev = h_dim\n",
    "        self.layers['Enc_%02d'%(len(self.h_dims))] = DenseBlockClass(\n",
    "            in_dim=self.h_dims[-1],out_dim=self.z_dim,pos_emb_dim=self.pos_emb_dim)\n",
    "        # Map\n",
    "        self.layers['Map'] = DenseBlockClass(\n",
    "            in_dim=self.z_dim,out_dim=self.z_dim,pos_emb_dim=self.pos_emb_dim)\n",
    "        # Decoder\n",
    "        h_prev = self.z_dim\n",
    "        for h_idx,h_dim in enumerate(self.h_dims[::-1]):\n",
    "            self.layers['Dec_%02d'%(h_idx)] = DenseBlockClass(\n",
    "                in_dim=h_prev,out_dim=h_dim,pos_emb_dim=self.pos_emb_dim)\n",
    "            h_prev = 2*h_dim\n",
    "        self.layers['Dec_%02d'%(len(self.h_dims))] = DenseBlockClass(\n",
    "            in_dim=h_prev,out_dim=self.x_dim,\n",
    "            pos_emb_dim=self.pos_emb_dim)\n",
    "        # Out\n",
    "        self.layers['Out'] = DenseBlockClass(\n",
    "            in_dim=2*self.x_dim,out_dim=self.x_dim,pos_emb_dim=self.pos_emb_dim)\n",
    "    \n",
    "    def forward(self,x,t):\n",
    "        \"\"\"\n",
    "            Forward\n",
    "        \"\"\"\n",
    "        net = x # [B x x_dim]\n",
    "        # Net\n",
    "        self.nets = []\n",
    "        # Encoder \n",
    "        self.enc_paths = []\n",
    "        self.enc_paths.append(net)\n",
    "        self.nets.append(net)\n",
    "        for h_idx in range(len(self.h_dims)+1):\n",
    "            net = self.layers['Enc_%02d'%(h_idx)](net,t)\n",
    "            self.enc_paths.append(net)\n",
    "            self.nets.append(net)\n",
    "        # Map\n",
    "        net = self.layers['Map'](net,t)\n",
    "        self.nets.append(net)\n",
    "        # Decoder\n",
    "        self.dec_paths = []\n",
    "        for h_idx in range(len(self.h_dims)+1):\n",
    "            net = self.layers['Dec_%02d'%(h_idx)](net,t)\n",
    "            net = torch.cat([self.enc_paths[len(self.h_dims)-h_idx],net],dim=1)\n",
    "            self.dec_paths.append(net)\n",
    "            self.nets.append(net)\n",
    "        net = self.layers['Out'](net,t)\n",
    "        self.nets.append(net)\n",
    "        return net\n",
    "    \n",
    "print (\"Ready.\")        "
   ]
  },
  {
   "cell_type": "markdown",
   "id": "2abec5a4",
   "metadata": {},
   "source": [
    "### Demo forward path"
   ]
  },
  {
   "cell_type": "code",
   "execution_count": 5,
   "id": "18cd3968",
   "metadata": {},
   "outputs": [
    {
     "name": "stdout",
     "output_type": "stream",
     "text": [
      "Ready\n"
     ]
    }
   ],
   "source": [
    "DUNet = DenseUNetClass(x_dim=300,pos_emb_dim=32,h_dims=[128,64],z_dim=32)\n",
    "x = torch.randn(128,300)\n",
    "t = torch.randn(128,32)\n",
    "DUNet(x=x,t=t)\n",
    "print (\"Ready\")"
   ]
  },
  {
   "cell_type": "markdown",
   "id": "2a732694",
   "metadata": {},
   "source": [
    "### Print"
   ]
  },
  {
   "cell_type": "code",
   "execution_count": 6,
   "id": "ead57674",
   "metadata": {
    "scrolled": true
   },
   "outputs": [
    {
     "name": "stdout",
     "output_type": "stream",
     "text": [
      "Layer information\n",
      "[0/8][ Enc_00] [300] =>[128]\n",
      "[1/8][ Enc_01] [128] =>[064]\n",
      "[2/8][ Enc_02] [064] =>[032]\n",
      "[3/8][    Map] [032] =>[032]\n",
      "[4/8][ Dec_00] [032] =>[064]\n",
      "[5/8][ Dec_01] [128] =>[128]\n",
      "[6/8][ Dec_02] [256] =>[300]\n",
      "[7/8][    Out] [600] =>[300]\n",
      "Network information\n",
      "[00/09] torch.Size([128, 300])\n",
      "[01/09] torch.Size([128, 128])\n",
      "[02/09] torch.Size([128, 64])\n",
      "[03/09] torch.Size([128, 32])\n",
      "[04/09] torch.Size([128, 32])\n",
      "[05/09] torch.Size([128, 128])\n",
      "[06/09] torch.Size([128, 256])\n",
      "[07/09] torch.Size([128, 600])\n",
      "[08/09] torch.Size([128, 300])\n"
     ]
    }
   ],
   "source": [
    "print (\"Layer information\")\n",
    "for key_idx,key in enumerate(DUNet.layers.keys()):\n",
    "    layer = DUNet.layers[key]\n",
    "    print (\"[%d/%d][%7s] [%03d] =>[%03d]\"%\n",
    "           (key_idx,len(DUNet.layers.keys()),key,layer.dense1.in_features,layer.dense1.out_features))\n",
    "    \n",
    "print (\"Network information\")\n",
    "for net_idx in range(len(DUNet.nets)):\n",
    "    net = DUNet.nets[net_idx]\n",
    "    print (\"[%02d/%02d] %s\"%(net_idx,len(DUNet.nets),net.shape))    "
   ]
  },
  {
   "cell_type": "code",
   "execution_count": null,
   "id": "ac1f02d1",
   "metadata": {},
   "outputs": [],
   "source": []
  }
 ],
 "metadata": {
  "kernelspec": {
   "display_name": "Python 3 (ipykernel)",
   "language": "python",
   "name": "python3"
  },
  "language_info": {
   "codemirror_mode": {
    "name": "ipython",
    "version": 3
   },
   "file_extension": ".py",
   "mimetype": "text/x-python",
   "name": "python",
   "nbconvert_exporter": "python",
   "pygments_lexer": "ipython3",
   "version": "3.9.13"
  }
 },
 "nbformat": 4,
 "nbformat_minor": 5
}
