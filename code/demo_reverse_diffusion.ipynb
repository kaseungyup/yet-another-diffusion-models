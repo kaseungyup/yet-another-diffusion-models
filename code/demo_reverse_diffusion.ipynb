{
 "cells": [
  {
   "cell_type": "markdown",
   "id": "f0ef0946",
   "metadata": {},
   "source": [
    "### Denoising-style Reverse Diffusion "
   ]
  },
  {
   "cell_type": "markdown",
   "id": "5ec52bef",
   "metadata": {},
   "source": [
    "### `Algorithm 1` Training\n",
    "1: $\\mathbf{x}_0 \\sim q( \\mathbf{x}_0 )$ \\\n",
    "2: $t \\sim \\text{Uniform}(\\{ 1, \\ldots, T \\})$ \\\n",
    "3: $ \\boldsymbol{\\epsilon} \\sim \\mathcal{N}(\\mathbf{0}, \\mathbf{I})$ \\\n",
    "4: Take gradient descent step on \n",
    "$$\n",
    "    \\nabla \\| \\boldsymbol{\\epsilon} - \\boldsymbol{\\epsilon}_{\\theta}(\n",
    "        \\sqrt{\\bar{\\alpha}_t} \\mathbf{x}_0 + \\sqrt{1-\\bar{\\alpha}_t} \\boldsymbol{\\epsilon}, t\n",
    "        ) \\|^2\n",
    "$$\n",
    "\n",
    "### `Algorithm 2` Sampling\n",
    "1: $\\mathbf{x}_T \\sim \\mathcal{N}(\\mathbf{0}, \\mathbf{I})$ \\\n",
    "2: for $t=T,\\ldots,1$ do \\\n",
    "3: $\\quad$ $\\mathbf{z} \\sim \\mathcal{N}(\\mathbf{0}, \\mathbf{I})$ if $t>1$, else $\\mathbf{z}=\\mathbf{0}$ \\\n",
    "4: $\\quad$ $\\mathbf{x}_{t-1} = \\frac{1}{\\sqrt{\\alpha_t}}\n",
    "        \\left(\n",
    "            \\mathbf{x}_t - \\frac{1-\\alpha_t}{\\sqrt{1-\\bar{\\alpha}_t}}\n",
    "            \\boldsymbol{\\epsilon}_{\\theta}(\\mathbf{x},t)\n",
    "        \\right)\n",
    "        + \\sigma_t \\mathbf{z}\n",
    "    $ \\\n",
    "5: end for \\\n",
    "6: return $\\mathbf{x}_0$"
   ]
  },
  {
   "cell_type": "code",
   "execution_count": null,
   "id": "be29aa02",
   "metadata": {},
   "outputs": [],
   "source": []
  }
 ],
 "metadata": {
  "kernelspec": {
   "display_name": "Python 3 (ipykernel)",
   "language": "python",
   "name": "python3"
  },
  "language_info": {
   "codemirror_mode": {
    "name": "ipython",
    "version": 3
   },
   "file_extension": ".py",
   "mimetype": "text/x-python",
   "name": "python",
   "nbconvert_exporter": "python",
   "pygments_lexer": "ipython3",
   "version": "3.9.13"
  }
 },
 "nbformat": 4,
 "nbformat_minor": 5
}
